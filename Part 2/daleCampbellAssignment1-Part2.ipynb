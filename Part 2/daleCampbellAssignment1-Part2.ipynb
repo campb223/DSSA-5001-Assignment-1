{
 "cells": [
  {
   "cell_type": "markdown",
   "metadata": {},
   "source": [
    "# Dale Campbell -- Dssa 5001 -- Assignment 1 \n",
    "\n",
    "## Part 2\n",
    "\n",
    "### Goals\n",
    "Find and download a dataset of your choosing, preferably a dataset that piques your interest.  \n",
    " \n",
    "Complete exploratory data analysis on this dataset in a Jupyter notebook. As a reminder, there is \n",
    "no set-by-set guide that is applicable to each dataset, as every dataset is different. However, your \n",
    "goals in general are to: \n",
    "- Understand your variables \n",
    "- Clean the dataset \n",
    "- Analyze the relationship between variables \n",
    "In addition, please meticulously annotate your notebook with your thoughts as you progress \n",
    "through the EDA process, writing down new questions that arise as you observe and analyze your \n",
    "data as comments. Not only is this best practice, but you’ll be able to reference your analysis in \n",
    "detail in the future. The code is secondary to your thought process and insights about your \n",
    "findings. "
   ]
  },
  {
   "cell_type": "code",
   "execution_count": null,
   "metadata": {},
   "outputs": [],
   "source": []
  }
 ],
 "metadata": {
  "kernelspec": {
   "display_name": "Python 3.10.7 64-bit",
   "language": "python",
   "name": "python3"
  },
  "language_info": {
   "name": "python",
   "version": "3.10.7"
  },
  "orig_nbformat": 4,
  "vscode": {
   "interpreter": {
    "hash": "c7d01c5d80e60e57e369bc43bf8b3609785c077dfe2d8fb0b2505110266cbf32"
   }
  }
 },
 "nbformat": 4,
 "nbformat_minor": 2
}
